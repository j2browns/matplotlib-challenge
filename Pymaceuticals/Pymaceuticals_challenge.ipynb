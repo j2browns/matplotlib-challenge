{
 "cells": [
  {
   "cell_type": "markdown",
   "metadata": {},
   "source": [
    "## Observations and Insights \n",
    "\n",
    "There are several observations that can be made from the data as analyzed:\n",
    "\n",
    "1)Of the four treatments deemed promising ('Capomulin', 'Ramicane', 'Infubinol', 'Ceftamin') Capomulin and Ramicane had lower final tumor volumes. \n",
    "\n",
    "2)Examining the average tumor volume versus mouse weight showed a positive correlation (r = 0.84).  Therefore, analyzing the mouse weight for different treatments would be important to make certain no bias is introduced based solely on weight.\n",
    "\n",
    "3)The number of male and female mice in the study were close to equal (F49 and M51%)\n",
    "\n",
    "4)From the box and whisker plot and outlier analysis for final tumor volume of the four promising regimes ('Capomulin', 'Ramicane', 'Infubinol', 'Ceftamin') one outlier exists.  This was from the Infubinol trial.  The mouse ID is C326 and it's weight was below the lower limit.  \n",
    "\n",
    "5)Additional work: Analysis of the average weight for mice in the treatment groups shows the mice in the Capomulin and Ramicane groups have lower weights on average.  Therefore, some bias may be possible in the data for tumor volume since it is shown that mouse weight correlates to tumor volume.  This was not a requirement of the work but based on observation (2) I thought it would be good to look at this data and comment.\n"
   ]
  },
  {
   "cell_type": "markdown",
   "metadata": {},
   "source": []
  },
  {
   "cell_type": "markdown",
   "metadata": {},
   "source": [
    "**Reading in Initial Data and merging into dataframe**"
   ]
  },
  {
   "cell_type": "code",
   "execution_count": 6,
   "metadata": {},
   "outputs": [],
   "source": [
    "# Dependencies and Setup\n",
    "import matplotlib.pyplot as plt\n",
    "import pandas as pd\n",
    "import scipy.stats as st\n",
    "from scipy.stats import linregress\n",
    "from sklearn import datasets\n",
    "\n",
    "# Study data files\n",
    "mouse_metadata_path = \"data/Mouse_metadata.csv\"\n",
    "study_results_path = \"data/Study_results.csv\"\n",
    "\n",
    "# Read the mouse data and the study results\n",
    "mouse_metadata = pd.read_csv(mouse_metadata_path)\n",
    "study_results = pd.read_csv(study_results_path)\n",
    "\n",
    "study_results.head()\n",
    "\n",
    "# Combine the data into a single dataset\n",
    "\n",
    "combined_study = pd.merge(mouse_metadata, study_results, on = \"Mouse ID\")\n",
    "\n",
    "# Display the data table for preview\n",
    "rows_initial = combined_study[\"Mouse ID\"].count()"
   ]
  },
  {
   "cell_type": "code",
   "execution_count": 7,
   "metadata": {},
   "outputs": [
    {
     "name": "stdout",
     "output_type": "stream",
     "text": [
      "Looking at Table of Merged Data\n"
     ]
    }
   ],
   "source": [
    "print(\"Looking at Table of Merged Data\")\n",
    "#combined_study"
   ]
  },
  {
   "cell_type": "code",
   "execution_count": 8,
   "metadata": {},
   "outputs": [],
   "source": [
    "# Checking the number of mice.\n",
    "Mouse_ID_List = combined_study[\"Mouse ID\"].unique()\n",
    "Num_Mice_before = len(Mouse_ID_List)\n"
   ]
  },
  {
   "cell_type": "code",
   "execution_count": 9,
   "metadata": {},
   "outputs": [],
   "source": [
    "# Getting the duplicate mice by ID number that shows up for Mouse ID and Timepoint. \n",
    "\n",
    "#sorting data by MouseID then timepoint so have time ordered for each mouse - making sure no issues in data recording\n",
    "combined_study.sort_values([\"Mouse ID\", \"Timepoint\"], inplace = True)\n",
    "\n",
    "#problem_id used to track which id has problems\n",
    "problem_id = []\n",
    "\n",
    "#below loops through all data in combined study and checks if consecutive TimeStamps for same mouse are equal\n",
    "for i in range (0,(len(combined_study)-1)):\n",
    "        Mouse_ID_1 = combined_study.iloc[i,0]\n",
    "        Mouse_ID_2 = combined_study.iloc[i+1,0]\n",
    "        if Mouse_ID_1 == Mouse_ID_2:\n",
    "            if combined_study.iloc[i,5] == combined_study.iloc[i+1,5]:\n",
    "                problem_id.append(Mouse_ID_1) #if have cuplicate then record mouse ID\n",
    "                \n",
    "#an individual mouse may have several duplicate entries therefore necessary to remove duplicates from problem_id list.\n",
    "problem_mouse = list(set(problem_id)) #set removes duplicate values from list and list converts set to a list.\n"
   ]
  },
  {
   "cell_type": "code",
   "execution_count": 10,
   "metadata": {},
   "outputs": [
    {
     "name": "stdout",
     "output_type": "stream",
     "text": [
      "\n",
      "#######################################################\n",
      "Results of Identifying Mouse with Duplicat TimePoints\n",
      "\n",
      "Identified Mice with Duplicate Timepoints\n",
      "Number of Mice ID'd: 1\n",
      "ID's of Mice: ['g989']\n",
      "\n",
      "Initial record length 1893\n",
      "Filtered record length 1880\n",
      "Removed 13 rows from data set\n",
      "\n",
      "Initial number of mice 249 \n",
      "after filtering new number is 248\n"
     ]
    }
   ],
   "source": [
    "\n",
    "#below removes the problem mice from the combined study\n",
    "for x in problem_mouse:\n",
    "    combined_study = combined_study[combined_study[\"Mouse ID\"]!= x]\n",
    "\n",
    "#Finding number of mice and data entries after filtering\n",
    "Num_Mice_after = len(combined_study[\"Mouse ID\"].unique())\n",
    "rows_after = combined_study[\"Mouse ID\"].count()\n",
    "\n",
    "#Printing data to see change in DataFrame\n",
    "print(\"\")\n",
    "print(\"#######################################################\")\n",
    "print(\"Results of Identifying Mouse with Duplicat TimePoints\")\n",
    "print(\"\")\n",
    "print(f\"Identified Mice with Duplicate Timepoints\")\n",
    "print(f\"Number of Mice ID'd: {len(problem_mouse)}\")\n",
    "print(f\"ID's of Mice: {problem_mouse}\")\n",
    "print(\"\")\n",
    "print(f\"Initial record length {rows_initial}\")\n",
    "print(f\"Filtered record length {rows_after}\")\n",
    "print(f\"Removed {rows_initial-rows_after} rows from data set\")\n",
    "print (\"\")\n",
    "print(f\"Initial number of mice {Num_Mice_before} \") \n",
    "print(f\"after filtering new number is {Num_Mice_after}\")\n",
    "\n"
   ]
  },
  {
   "cell_type": "markdown",
   "metadata": {},
   "source": [
    "## Summary Statistics"
   ]
  },
  {
   "cell_type": "code",
   "execution_count": 11,
   "metadata": {},
   "outputs": [
    {
     "name": "stdout",
     "output_type": "stream",
     "text": [
      "\n",
      "######################################################################\n",
      "Statistical Analysis of Tumor Volume (mm3) - Summary of Study Data\n"
     ]
    },
    {
     "data": {
      "text/html": [
       "<div>\n",
       "<style scoped>\n",
       "    .dataframe tbody tr th:only-of-type {\n",
       "        vertical-align: middle;\n",
       "    }\n",
       "\n",
       "    .dataframe tbody tr th {\n",
       "        vertical-align: top;\n",
       "    }\n",
       "\n",
       "    .dataframe thead th {\n",
       "        text-align: right;\n",
       "    }\n",
       "</style>\n",
       "<table border=\"1\" class=\"dataframe\">\n",
       "  <thead>\n",
       "    <tr style=\"text-align: right;\">\n",
       "      <th></th>\n",
       "      <th>Mean</th>\n",
       "      <th>Median</th>\n",
       "      <th>Variance</th>\n",
       "      <th>STDev</th>\n",
       "      <th>SEM</th>\n",
       "      <th>Data Count</th>\n",
       "    </tr>\n",
       "    <tr>\n",
       "      <th>Drug Regimen</th>\n",
       "      <th></th>\n",
       "      <th></th>\n",
       "      <th></th>\n",
       "      <th></th>\n",
       "      <th></th>\n",
       "      <th></th>\n",
       "    </tr>\n",
       "  </thead>\n",
       "  <tbody>\n",
       "    <tr>\n",
       "      <th>Capomulin</th>\n",
       "      <td>40.68</td>\n",
       "      <td>41.56</td>\n",
       "      <td>24.95</td>\n",
       "      <td>4.99</td>\n",
       "      <td>0.33</td>\n",
       "      <td>230</td>\n",
       "    </tr>\n",
       "    <tr>\n",
       "      <th>Ceftamin</th>\n",
       "      <td>52.59</td>\n",
       "      <td>51.78</td>\n",
       "      <td>39.29</td>\n",
       "      <td>6.27</td>\n",
       "      <td>0.47</td>\n",
       "      <td>178</td>\n",
       "    </tr>\n",
       "    <tr>\n",
       "      <th>Infubinol</th>\n",
       "      <td>52.88</td>\n",
       "      <td>51.82</td>\n",
       "      <td>43.13</td>\n",
       "      <td>6.57</td>\n",
       "      <td>0.49</td>\n",
       "      <td>178</td>\n",
       "    </tr>\n",
       "    <tr>\n",
       "      <th>Ketapril</th>\n",
       "      <td>55.24</td>\n",
       "      <td>53.70</td>\n",
       "      <td>68.55</td>\n",
       "      <td>8.28</td>\n",
       "      <td>0.60</td>\n",
       "      <td>188</td>\n",
       "    </tr>\n",
       "    <tr>\n",
       "      <th>Naftisol</th>\n",
       "      <td>54.33</td>\n",
       "      <td>52.51</td>\n",
       "      <td>66.17</td>\n",
       "      <td>8.13</td>\n",
       "      <td>0.60</td>\n",
       "      <td>186</td>\n",
       "    </tr>\n",
       "    <tr>\n",
       "      <th>Placebo</th>\n",
       "      <td>54.03</td>\n",
       "      <td>52.29</td>\n",
       "      <td>61.17</td>\n",
       "      <td>7.82</td>\n",
       "      <td>0.58</td>\n",
       "      <td>181</td>\n",
       "    </tr>\n",
       "    <tr>\n",
       "      <th>Propriva</th>\n",
       "      <td>52.32</td>\n",
       "      <td>50.45</td>\n",
       "      <td>43.85</td>\n",
       "      <td>6.62</td>\n",
       "      <td>0.54</td>\n",
       "      <td>148</td>\n",
       "    </tr>\n",
       "    <tr>\n",
       "      <th>Ramicane</th>\n",
       "      <td>40.22</td>\n",
       "      <td>40.67</td>\n",
       "      <td>23.49</td>\n",
       "      <td>4.85</td>\n",
       "      <td>0.32</td>\n",
       "      <td>228</td>\n",
       "    </tr>\n",
       "    <tr>\n",
       "      <th>Stelasyn</th>\n",
       "      <td>54.23</td>\n",
       "      <td>52.43</td>\n",
       "      <td>59.45</td>\n",
       "      <td>7.71</td>\n",
       "      <td>0.57</td>\n",
       "      <td>181</td>\n",
       "    </tr>\n",
       "    <tr>\n",
       "      <th>Zoniferol</th>\n",
       "      <td>53.24</td>\n",
       "      <td>51.82</td>\n",
       "      <td>48.53</td>\n",
       "      <td>6.97</td>\n",
       "      <td>0.52</td>\n",
       "      <td>182</td>\n",
       "    </tr>\n",
       "  </tbody>\n",
       "</table>\n",
       "</div>"
      ],
      "text/plain": [
       "               Mean  Median  Variance  STDev   SEM  Data Count\n",
       "Drug Regimen                                                  \n",
       "Capomulin     40.68   41.56     24.95   4.99  0.33         230\n",
       "Ceftamin      52.59   51.78     39.29   6.27  0.47         178\n",
       "Infubinol     52.88   51.82     43.13   6.57  0.49         178\n",
       "Ketapril      55.24   53.70     68.55   8.28  0.60         188\n",
       "Naftisol      54.33   52.51     66.17   8.13  0.60         186\n",
       "Placebo       54.03   52.29     61.17   7.82  0.58         181\n",
       "Propriva      52.32   50.45     43.85   6.62  0.54         148\n",
       "Ramicane      40.22   40.67     23.49   4.85  0.32         228\n",
       "Stelasyn      54.23   52.43     59.45   7.71  0.57         181\n",
       "Zoniferol     53.24   51.82     48.53   6.97  0.52         182"
      ]
     },
     "execution_count": 11,
     "metadata": {},
     "output_type": "execute_result"
    }
   ],
   "source": [
    "# Generate a summary statistics table of mean, median, variance, standard deviation, and SEM of the tumor volume for each regimen\n",
    "\n",
    "# This method is the most straighforward, creating multiple series and putting them all together at the end.\n",
    "\n",
    "#Isolate the Regimens used in the study\n",
    "regimen_list = combined_study[\"Drug Regimen\"].unique()\n",
    "\n",
    "#Perform groupby on the Regimen\n",
    "study_groupby = combined_study.groupby(\"Drug Regimen\")\n",
    "\n",
    "#Calculate statistics of the study for different Regimens\n",
    "mean_grouped = study_groupby[\"Tumor Volume (mm3)\"].mean()\n",
    "median_grouped = study_groupby[\"Tumor Volume (mm3)\"].median()\n",
    "var_grouped = study_groupby[\"Tumor Volume (mm3)\"].var()\n",
    "std_grouped = study_groupby[\"Tumor Volume (mm3)\"].std()\n",
    "SEM_grouped = study_groupby[\"Tumor Volume (mm3)\"].sem()\n",
    "Count_grouped = study_groupby[\"Tumor Volume (mm3)\"].count()\n",
    "\n",
    "Summary_df= pd.DataFrame(round(mean_grouped,2))\n",
    "Summary_df = Summary_df.rename(columns = {\"Tumor Volume (mm3)\":\"Mean\"})\n",
    "Summary_df[\"Median\"]=round(median_grouped,2)\n",
    "Summary_df[\"Variance\"]=round(var_grouped,2)\n",
    "Summary_df[\"STDev\"]=round(std_grouped,2)\n",
    "Summary_df[\"SEM\"]=round(SEM_grouped,2)\n",
    "Summary_df[\"Data Count\"]=round(Count_grouped,2)\n",
    "print(\"\")\n",
    "print(\"######################################################################\")\n",
    "print( \"Statistical Analysis of Tumor Volume (mm3) - Summary of Study Data\")\n",
    "\n",
    "Summary_df\n"
   ]
  },
  {
   "cell_type": "markdown",
   "metadata": {},
   "source": [
    "## Bar and Pie Charts"
   ]
  },
  {
   "cell_type": "code",
   "execution_count": 13,
   "metadata": {},
   "outputs": [],
   "source": [
    "#regimen_list\n",
    "\n",
    "x_axis = Summary_df.index\n",
    "\n",
    "row = []\n",
    "num_mice = pd.DataFrame(columns=[\"Treatment\", \"Num Mice\"])\n",
    "i=0\n",
    "\n",
    "\n",
    "for x in regimen_list:\n",
    "    mice = combined_study[combined_study[\"Drug Regimen\"]==x][\"Mouse ID\"].unique()  \n",
    "    #row = [ x, len(mice)]\n",
    "    #num_mice.loc[\"Treatment\"] = x \n",
    "    #num_mice.loc[\"Num Mice\"] = len(mice)\n",
    "    new_row = pd.Series(data={'Treatment':x, 'Num Mice':len(mice)})\n",
    "    num_mice = num_mice.append(new_row, ignore_index = True)\n",
    "   \n",
    "\n",
    "total_mice = num_mice[\"Num Mice\"].sum()\n"
   ]
  },
  {
   "cell_type": "code",
   "execution_count": 14,
   "metadata": {},
   "outputs": [
    {
     "name": "stdout",
     "output_type": "stream",
     "text": [
      "\n",
      "Total Number of Mice in Study: 248\n",
      "\n"
     ]
    },
    {
     "data": {
      "image/png": "[encoded data removed]",
      "text/plain": [
       "<Figure size 720x288 with 1 Axes>"
      ]
     },
     "metadata": {
      "needs_background": "light"
     },
     "output_type": "display_data"
    }
   ],
   "source": [
    "# Generate a bar plot showing the total number of mice for each treatment throughout the course of the study using pandas.\n",
    "x_axis = num_mice[\"Treatment\"]  \n",
    "y_axis = num_mice[\"Num Mice\"]\n",
    "num_mice_mod = num_mice.set_index(\"Treatment\")\n",
    "\n",
    "print(\"\")\n",
    "print(f\"Total Number of Mice in Study: {total_mice}\")\n",
    "print(\"\")\n",
    "\n",
    "# Use DataFrame.plot() in order to create a bar chart of the data\n",
    "num_mice_mod.plot(kind=\"bar\", color = \"r\", figsize=(10,4), title = \"Number of Mice in Drug Regimen Studies (Pandas)\")\n",
    "# Set additional parameters for the chart\n",
    "plt.xlabel(\"Drug Regimen\")\n",
    "plt.ylabel(\"Number of Mice\")\n",
    "plt.ylim(0,30)\n",
    "plt.tight_layout()\n",
    "plt.show()"
   ]
  },
  {
   "cell_type": "code",
   "execution_count": 15,
   "metadata": {},
   "outputs": [
    {
     "name": "stdout",
     "output_type": "stream",
     "text": [
      "\n",
      "Total Number of Mice in Study: 248\n",
      "\n"
     ]
    },
    {
     "data": {
      "image/png": "[encoded data removed]",
      "text/plain": [
       "<Figure size 720x288 with 1 Axes>"
      ]
     },
     "metadata": {
      "needs_background": "light"
     },
     "output_type": "display_data"
    }
   ],
   "source": [
    "# Generate a bar plot showing the total number of mice for each treatment throughout the course of the study using Pyplot\n",
    "print(\"\")\n",
    "print(f\"Total Number of Mice in Study: {total_mice}\")\n",
    "print(\"\")\n",
    "\n",
    "plt.figure(figsize=(10,4)) #10 inches wide by 4\" tall\n",
    "\n",
    "plt.bar(x_axis, y_axis, color='r', width = 0.5, alpha=1, align=\"center\") #alpha is how transparent bars are\n",
    "plt.ylim(0, 30)\n",
    "\n",
    "plt.title(\"Number of Mice in Drug Regimen Studies (PyPlot)\")\n",
    "plt.xlabel(\"Drug Regimen\")\n",
    "plt.ylabel(\"Number of Mice\")\n",
    "\n",
    "plt.tight_layout() #tight layout helps to arrange the graph to look nicer\n",
    "\n",
    "plt.show()\n"
   ]
  },
  {
   "cell_type": "code",
   "execution_count": 16,
   "metadata": {},
   "outputs": [
    {
     "data": {
      "image/png": "[encoded data removed]",
      "text/plain": [
       "<Figure size 360x360 with 1 Axes>"
      ]
     },
     "metadata": {},
     "output_type": "display_data"
    }
   ],
   "source": [
    "# Generate a pie plot showing the distribution of female versus male mice using pandas\n",
    "Mouse_sex_group = combined_study.groupby(\"Sex\")\n",
    "Mouse_sex_df = Mouse_sex_group[\"Sex\"].count()\n",
    "Mouse_sex_df\n",
    "colors = [\"Pink\", \"Blue\"]\n",
    "explode = [0,0.04]\n",
    "\n",
    "plot = Mouse_sex_df.plot.pie( figsize=(5, 5), startangle = 90, autopct = \"%1.1f%%\", colors = colors, \n",
    "                     explode = explode, title = \"Mouse Sex in Study\" )\n",
    "plt.ylabel('')\n",
    "plt.show()"
   ]
  },
  {
   "cell_type": "code",
   "execution_count": 17,
   "metadata": {},
   "outputs": [
    {
     "data": {
      "image/png": "[encoded data removed]",
      "text/plain": [
       "<Figure size 432x288 with 1 Axes>"
      ]
     },
     "metadata": {},
     "output_type": "display_data"
    }
   ],
   "source": [
    "# Generate a pie plot showing the distribution of female versus male mice using pyplot\n",
    "\n",
    "\n",
    "Label = Mouse_sex_df.index\n",
    "\n",
    "data = Mouse_sex_df.iloc[:]\n",
    "data\n",
    "\n",
    "colors = [\"Pink\", \"Blue\"]\n",
    "\n",
    "explode = (0, 0.05)\n",
    "\n",
    "plt.title(\"Mouse Sex in Study\")\n",
    "plt.pie(data, explode=explode, labels=Label, colors=colors,\n",
    "        autopct=\"%1.1f%%\", shadow=True, startangle=90)\n",
    "plt.axis(\"equal\")\n",
    "plt.show()\n"
   ]
  },
  {
   "cell_type": "markdown",
   "metadata": {},
   "source": [
    "## Quartiles, Outliers and Boxplots"
   ]
  },
  {
   "cell_type": "code",
   "execution_count": 18,
   "metadata": {},
   "outputs": [],
   "source": [
    "# Calculate the final tumor volume of each mouse across four of the treatment regimens:  \n",
    "# Capomulin, Ramicane, Infubinol, and Ceftamin\n",
    "\n",
    "#create list of the highlighted promising treatments\n",
    "promising_treatment_list = [\"Capomulin\", \"Ramicane\", \"Infubinol\", \"Ceftamin\"]\n",
    "\n",
    "#create dataframe for new promising treatment data\n",
    "promising_treatment_df = pd.DataFrame()\n",
    "\n",
    "#iterate through combined_study data to isolate only promising treatment data\n",
    "for x in promising_treatment_list:\n",
    "    promising_treatment_df = promising_treatment_df.append(combined_study[combined_study[\"Drug Regimen\"] == x])\n",
    "\n",
    "#iterate through dataframe for promising treatments to isolate the final tumor volume.  Occurs when mouse ID changes.    \n",
    "final_tumor_volumes_df = pd.DataFrame()\n",
    "\n",
    "for x in range(1, (len(promising_treatment_df)-1)):\n",
    "            mouse_ID1 = promising_treatment_df.iloc[x][0]\n",
    "            mouse_ID2 = promising_treatment_df.iloc[x+1][0]\n",
    "            if mouse_ID1 != mouse_ID2:\n",
    "                selected_data = promising_treatment_df.iloc[x][:]\n",
    "                final_tumor_volumes_df = final_tumor_volumes_df.append(selected_data)\n",
    "\n",
    "final_tumor_volumes_df = final_tumor_volumes_df.rename(columns = {\"Tumor Volume (mm3)\": \"Final Tumor Volume\"})\n",
    "# Start by getting the last (greatest) timepoint for each mouse\n",
    "# Merge this group df with the original dataframe to get the tumor volume at the last timepoint\n",
    "final_tumor_volumes_df.index.name = \"Index\"\n"
   ]
  },
  {
   "cell_type": "code",
   "execution_count": 19,
   "metadata": {},
   "outputs": [
    {
     "name": "stdout",
     "output_type": "stream",
     "text": [
      "\n",
      "####################################################################################\n",
      "Summary Table of Quartiles, IQR, Lower and Upper Bounds for Final Tumor Volume (mm3)\n",
      "For Promising Treatments: ['Capomulin', 'Ramicane', 'Infubinol', 'Ceftamin']\n",
      "\n"
     ]
    },
    {
     "data": {
      "text/html": [
       "<div>\n",
       "<style scoped>\n",
       "    .dataframe tbody tr th:only-of-type {\n",
       "        vertical-align: middle;\n",
       "    }\n",
       "\n",
       "    .dataframe tbody tr th {\n",
       "        vertical-align: top;\n",
       "    }\n",
       "\n",
       "    .dataframe thead th {\n",
       "        text-align: right;\n",
       "    }\n",
       "</style>\n",
       "<table border=\"1\" class=\"dataframe\">\n",
       "  <thead>\n",
       "    <tr style=\"text-align: right;\">\n",
       "      <th></th>\n",
       "      <th>Capomulin</th>\n",
       "      <th>Ramicane</th>\n",
       "      <th>Infubinol</th>\n",
       "      <th>Ceftamin</th>\n",
       "    </tr>\n",
       "    <tr>\n",
       "      <th>Parameter</th>\n",
       "      <th></th>\n",
       "      <th></th>\n",
       "      <th></th>\n",
       "      <th></th>\n",
       "    </tr>\n",
       "  </thead>\n",
       "  <tbody>\n",
       "    <tr>\n",
       "      <th>0.25</th>\n",
       "      <td>32.377357</td>\n",
       "      <td>31.560470</td>\n",
       "      <td>54.048608</td>\n",
       "      <td>48.487729</td>\n",
       "    </tr>\n",
       "    <tr>\n",
       "      <th>0.5</th>\n",
       "      <td>38.125164</td>\n",
       "      <td>36.561652</td>\n",
       "      <td>60.165180</td>\n",
       "      <td>59.796928</td>\n",
       "    </tr>\n",
       "    <tr>\n",
       "      <th>0.75</th>\n",
       "      <td>40.159220</td>\n",
       "      <td>40.659006</td>\n",
       "      <td>65.525743</td>\n",
       "      <td>64.219213</td>\n",
       "    </tr>\n",
       "    <tr>\n",
       "      <th>IQR</th>\n",
       "      <td>7.781863</td>\n",
       "      <td>9.098537</td>\n",
       "      <td>11.477135</td>\n",
       "      <td>15.731485</td>\n",
       "    </tr>\n",
       "    <tr>\n",
       "      <th>lower bound</th>\n",
       "      <td>20.704562</td>\n",
       "      <td>17.912664</td>\n",
       "      <td>36.832905</td>\n",
       "      <td>24.890502</td>\n",
       "    </tr>\n",
       "    <tr>\n",
       "      <th>upper bound</th>\n",
       "      <td>51.832015</td>\n",
       "      <td>54.306811</td>\n",
       "      <td>82.741446</td>\n",
       "      <td>87.816440</td>\n",
       "    </tr>\n",
       "  </tbody>\n",
       "</table>\n",
       "</div>"
      ],
      "text/plain": [
       "             Capomulin   Ramicane  Infubinol   Ceftamin\n",
       "Parameter                                              \n",
       "0.25         32.377357  31.560470  54.048608  48.487729\n",
       "0.5          38.125164  36.561652  60.165180  59.796928\n",
       "0.75         40.159220  40.659006  65.525743  64.219213\n",
       "IQR           7.781863   9.098537  11.477135  15.731485\n",
       "lower bound  20.704562  17.912664  36.832905  24.890502\n",
       "upper bound  51.832015  54.306811  82.741446  87.816440"
      ]
     },
     "execution_count": 19,
     "metadata": {},
     "output_type": "execute_result"
    }
   ],
   "source": [
    "# Put treatments into a list for for loop (and later for plot labels)\n",
    "promising_treatment_list\n",
    "\n",
    "# Create empty list to fill with tumor vol data (for plotting\n",
    "\n",
    "final_tumor_vol0 = final_tumor_volumes_df[final_tumor_volumes_df[\"Drug Regimen\"]==promising_treatment_list[0]][\"Final Tumor Volume\"]\n",
    "final_tumor_vol1 = final_tumor_volumes_df[final_tumor_volumes_df[\"Drug Regimen\"]==promising_treatment_list[1]][\"Final Tumor Volume\"]\n",
    "final_tumor_vol2 = final_tumor_volumes_df[final_tumor_volumes_df[\"Drug Regimen\"]==promising_treatment_list[2]][\"Final Tumor Volume\"]\n",
    "final_tumor_vol3 = final_tumor_volumes_df[final_tumor_volumes_df[\"Drug Regimen\"]==promising_treatment_list[3]][\"Final Tumor Volume\"]\n",
    "\n",
    "final_tumor_vol0.reset_index(inplace = True, drop = True)\n",
    "final_tumor_vol1.reset_index(inplace = True, drop = True)\n",
    "final_tumor_vol2.reset_index(inplace = True, drop = True)\n",
    "final_tumor_vol3.reset_index(inplace = True, drop = True)\n",
    "\n",
    "# Calculate the IQR and quantitatively determine if there are any potential outliers. \n",
    "\n",
    "final_tumor_data = pd.DataFrame()\n",
    "final_tumor_data[promising_treatment_list[0]]=final_tumor_vol0\n",
    "final_tumor_data[promising_treatment_list[1]]=final_tumor_vol1\n",
    "final_tumor_data[promising_treatment_list[2]]=final_tumor_vol2\n",
    "final_tumor_data[promising_treatment_list[3]]=final_tumor_vol3\n",
    "\n",
    "quartiles_df = pd.DataFrame()\n",
    "\n",
    "quartiles_df[promising_treatment_list[0]] = final_tumor_data[promising_treatment_list[0]].quantile([0.25,0.5,0.75])\n",
    "quartiles_df[promising_treatment_list[1]] = final_tumor_data[promising_treatment_list[1]].quantile([0.25,0.5,0.75])\n",
    "quartiles_df[promising_treatment_list[2]] = final_tumor_data[promising_treatment_list[2]].quantile([0.25,0.5,0.75])\n",
    "quartiles_df[promising_treatment_list[3]] = final_tumor_data[promising_treatment_list[3]].quantile([0.25,0.5,0.75])\n",
    "#lowerq = quartiles[0.25]\n",
    "#upperq = quartiles[0.75]\n",
    "#iqr = upperq-lowerq\n",
    "#lower_bound = lowerq - (1.5*iqr)\n",
    "#upper_bound = upperq + (1.5*iqr)\n",
    "\n",
    "#determining iqr's and adding to dataframe\n",
    "iqr_0 = quartiles_df.iloc[2][0]-quartiles_df.iloc[0][0]\n",
    "iqr_1 = quartiles_df.iloc[2][1]-quartiles_df.iloc[0][1]\n",
    "iqr_2 = quartiles_df.iloc[2][2]-quartiles_df.iloc[0][2]\n",
    "iqr_3 = quartiles_df.iloc[2][3]-quartiles_df.iloc[0][3]\n",
    "iqr_row = pd.Series(data = {promising_treatment_list[0]: iqr_0, promising_treatment_list[1]:iqr_1, \n",
    "                           promising_treatment_list[2]: iqr_2, promising_treatment_list[3]: iqr_3}, name = \"IQR\")\n",
    "quartiles_df = quartiles_df.append(iqr_row, ignore_index=False)\n",
    "\n",
    "#determining lower bounds and adding to dataframe\n",
    "lower_bound_0 = quartiles_df.iloc[0][0]-1.5*quartiles_df.iloc[3][0]\n",
    "lower_bound_1 = quartiles_df.iloc[0][1]-1.5*quartiles_df.iloc[3][1]\n",
    "lower_bound_2 = quartiles_df.iloc[0][2]-1.5*quartiles_df.iloc[3][2]\n",
    "lower_bound_3 = quartiles_df.iloc[0][3]-1.5*quartiles_df.iloc[3][3]\n",
    "lower_bound_row = pd.Series(data = {promising_treatment_list[0]: lower_bound_0, promising_treatment_list[1]:lower_bound_1, \n",
    "                           promising_treatment_list[2]: lower_bound_2, promising_treatment_list[3]: lower_bound_3}, \n",
    "                            name = \"lower bound\")\n",
    "quartiles_df = quartiles_df.append(lower_bound_row, ignore_index=False)\n",
    "\n",
    "#determining upper bounds and adding to dataframe\n",
    "upper_bound_0 = quartiles_df.iloc[2][0]+1.5*quartiles_df.iloc[3][0]\n",
    "upper_bound_1 = quartiles_df.iloc[2][1]+1.5*quartiles_df.iloc[3][1]\n",
    "upper_bound_2 = quartiles_df.iloc[2][2]+1.5*quartiles_df.iloc[3][2]\n",
    "upper_bound_3 = quartiles_df.iloc[2][3]+1.5*quartiles_df.iloc[3][3]\n",
    "upper_bound_row = pd.Series(data = {promising_treatment_list[0]: upper_bound_0, promising_treatment_list[1]:upper_bound_1, \n",
    "                           promising_treatment_list[2]: upper_bound_2, promising_treatment_list[3]: upper_bound_3}, \n",
    "                            name = \"upper bound\")\n",
    "quartiles_df = quartiles_df.append(upper_bound_row, ignore_index=False)\n",
    "\n",
    "print(\"\")\n",
    "print(\"####################################################################################\")\n",
    "print(\"Summary Table of Quartiles, IQR, Lower and Upper Bounds for Final Tumor Volume (mm3)\")\n",
    "print(f\"For Promising Treatments: {promising_treatment_list}\")\n",
    "print(\"\")\n",
    "quartiles_df.index.name = \"Parameter\"\n",
    "quartiles_df\n",
    "\n",
    "\n"
   ]
  },
  {
   "cell_type": "code",
   "execution_count": 20,
   "metadata": {},
   "outputs": [
    {
     "name": "stdout",
     "output_type": "stream",
     "text": [
      "\n",
      "#######################################################################################\n",
      "From Quartile calculations and Upper/Lower Bounds Following Mice are Potential Outliers\n"
     ]
    },
    {
     "data": {
      "text/html": [
       "<div>\n",
       "<style scoped>\n",
       "    .dataframe tbody tr th:only-of-type {\n",
       "        vertical-align: middle;\n",
       "    }\n",
       "\n",
       "    .dataframe tbody tr th {\n",
       "        vertical-align: top;\n",
       "    }\n",
       "\n",
       "    .dataframe thead th {\n",
       "        text-align: right;\n",
       "    }\n",
       "</style>\n",
       "<table border=\"1\" class=\"dataframe\">\n",
       "  <thead>\n",
       "    <tr style=\"text-align: right;\">\n",
       "      <th></th>\n",
       "      <th>Age_months</th>\n",
       "      <th>Drug Regimen</th>\n",
       "      <th>Final Tumor Volume</th>\n",
       "      <th>Metastatic Sites</th>\n",
       "      <th>Mouse ID</th>\n",
       "      <th>Sex</th>\n",
       "      <th>Timepoint</th>\n",
       "      <th>Weight (g)</th>\n",
       "      <th>Outlier Type</th>\n",
       "    </tr>\n",
       "    <tr>\n",
       "      <th>Index</th>\n",
       "      <th></th>\n",
       "      <th></th>\n",
       "      <th></th>\n",
       "      <th></th>\n",
       "      <th></th>\n",
       "      <th></th>\n",
       "      <th></th>\n",
       "      <th></th>\n",
       "      <th></th>\n",
       "    </tr>\n",
       "  </thead>\n",
       "  <tbody>\n",
       "    <tr>\n",
       "      <th>669</th>\n",
       "      <td>18.0</td>\n",
       "      <td>Infubinol</td>\n",
       "      <td>36.321346</td>\n",
       "      <td>0.0</td>\n",
       "      <td>c326</td>\n",
       "      <td>Female</td>\n",
       "      <td>5.0</td>\n",
       "      <td>25.0</td>\n",
       "      <td>Below LL</td>\n",
       "    </tr>\n",
       "  </tbody>\n",
       "</table>\n",
       "</div>"
      ],
      "text/plain": [
       "       Age_months Drug Regimen  Final Tumor Volume  Metastatic Sites Mouse ID  \\\n",
       "Index                                                                           \n",
       "669          18.0    Infubinol           36.321346               0.0     c326   \n",
       "\n",
       "          Sex  Timepoint  Weight (g) Outlier Type  \n",
       "Index                                              \n",
       "669    Female        5.0        25.0     Below LL  "
      ]
     },
     "execution_count": 20,
     "metadata": {},
     "output_type": "execute_result"
    }
   ],
   "source": [
    "#searching for outliers in data sets\n",
    "\n",
    "final_tumor_volumes_df\n",
    "Outlier_df = pd.DataFrame()\n",
    "Outlier_type = []\n",
    "\n",
    "#Upper Bound Outlier\n",
    "for i in range(0,len(final_tumor_volumes_df)):   \n",
    "    for x in range(0,len(promising_treatment_list)):\n",
    "        if final_tumor_volumes_df.iloc[i][1] == promising_treatment_list[x]:\n",
    "            if final_tumor_volumes_df.iloc[i,6] > quartiles_df.iloc[5][x]:\n",
    "                Outlier_df = Outlier_df.append(final_tumor_volumes_df.iloc[i][:])\n",
    "                Outlier_type.append(\"Above UL\")\n",
    "\n",
    "for i in range(0,len(final_tumor_volumes_df)):   \n",
    "    for x in range(0,len(promising_treatment_list)):\n",
    "        if final_tumor_volumes_df.iloc[i][1] == promising_treatment_list[x]:\n",
    "            if final_tumor_volumes_df.iloc[i,6] < quartiles_df.iloc[4][x]:\n",
    "                Outlier_df = Outlier_df.append(final_tumor_volumes_df.iloc[i][:])\n",
    "                Outlier_type.append(\"Below LL\")\n",
    "\n",
    "Outlier_df[\"Outlier Type\"] = Outlier_type\n",
    "print(\"\")\n",
    "print(\"#######################################################################################\")\n",
    "print(\"From Quartile calculations and Upper/Lower Bounds Following Mice are Potential Outliers\")\n",
    "\n",
    "Outlier_df.index.name = \"Index\"\n",
    "Outlier_df"
   ]
  },
  {
   "cell_type": "code",
   "execution_count": 21,
   "metadata": {},
   "outputs": [
    {
     "data": {
      "image/png": "[encoded data removed]",
      "text/plain": [
       "<Figure size 432x288 with 1 Axes>"
      ]
     },
     "metadata": {
      "needs_background": "light"
     },
     "output_type": "display_data"
    }
   ],
   "source": [
    "# Generate a box plot of the final tumor volume of each mouse across four regimens of interest\n",
    "\n",
    "red_diamond = dict(markerfacecolor='r', marker='D')\n",
    "#ax3.boxplot(data, flierprops=green_diamond)\n",
    "\n",
    "labels = promising_treatment_list\n",
    "fig1, ax1 = plt.subplots()\n",
    "ax1.set_title('Final Tumor Volumes for Promising Treatments')\n",
    "ax1.set_ylabel('Final Tumor Volume (mm3)')\n",
    "ax1.boxplot([final_tumor_vol0, final_tumor_vol1, final_tumor_vol2, final_tumor_vol3], showfliers = True,\n",
    "           flierprops = red_diamond, labels=labels)\n",
    "plt.show()\n",
    "\n"
   ]
  },
  {
   "cell_type": "markdown",
   "metadata": {},
   "source": [
    "## Line and Scatter Plots"
   ]
  },
  {
   "cell_type": "code",
   "execution_count": 22,
   "metadata": {
    "scrolled": true
   },
   "outputs": [
    {
     "name": "stdout",
     "output_type": "stream",
     "text": [
      "\n",
      "List of mice in Capomulin Study\n",
      "['b128' 'b742' 'f966' 'g288' 'g316' 'i557' 'i738' 'j119' 'j246' 'l509'\n",
      " 'l897' 'm601' 'm957' 'r157' 'r554' 'r944' 's185' 's710' 't565' 'u364'\n",
      " 'v923' 'w150' 'w914' 'x401' 'y793']\n",
      "\n",
      "What mouse do you choose?s185\n"
     ]
    }
   ],
   "source": [
    "# Generate a line plot of time point versus tumor volume for a mouse treated with Capomulin\n",
    "#Allow user to choose mouse based on list of possible mice.  Include handling to make certain mouse is in list\n",
    "\n",
    "#showing all the mice on Capomulin\n",
    "List_Mouse_Capomulin = combined_study[\"Mouse ID\"][combined_study[\"Drug Regimen\"]==\"Capomulin\"].unique()\n",
    "print(\"\")\n",
    "print(\"List of mice in Capomulin Study\")\n",
    "print(List_Mouse_Capomulin)\n",
    "\n",
    "print(\"\")\n",
    "chosen_mouse = \"\"\n",
    "while chosen_mouse not in List_Mouse_Capomulin:\n",
    "    chosen_mouse = input(\"What mouse do you choose?\")\n",
    "    if chosen_mouse not in List_Mouse_Capomulin:\n",
    "        print(f\"Mouse {chosen_mouse} is not in the Capomulin Study.  Choose again.\")\n"
   ]
  },
  {
   "cell_type": "code",
   "execution_count": 23,
   "metadata": {},
   "outputs": [
    {
     "data": {
      "image/png": "[encoded data removed]",
      "text/plain": [
       "<Figure size 432x288 with 1 Axes>"
      ]
     },
     "metadata": {
      "needs_background": "light"
     },
     "output_type": "display_data"
    }
   ],
   "source": [
    "#isolating data based on chosen mouse\n",
    "mouse_data_x = combined_study[combined_study[\"Mouse ID\"]==chosen_mouse][\"Timepoint\"]\n",
    "mouse_data_y = combined_study[combined_study[\"Mouse ID\"]==chosen_mouse][\"Tumor Volume (mm3)\"]\n",
    "\n",
    "#plotting data for mouse\n",
    "plt.plot(mouse_data_x[:], mouse_data_y[:], color = \"r\")\n",
    "\n",
    "plt.title(f\"Tumor Volume vs Time Point for Mouse {chosen_mouse}\")\n",
    "plt.xlabel(\"Time Point\")\n",
    "plt.ylabel(\"Tumor Volume (mm3)\")\n",
    "plt.show()"
   ]
  },
  {
   "cell_type": "code",
   "execution_count": 24,
   "metadata": {},
   "outputs": [
    {
     "data": {
      "image/png": "[encoded data removed]",
      "text/plain": [
       "<Figure size 432x288 with 1 Axes>"
      ]
     },
     "metadata": {
      "needs_background": "light"
     },
     "output_type": "display_data"
    },
    {
     "name": "stdout",
     "output_type": "stream",
     "text": [
      "Number of points in average tumor volume: 25\n",
      "Number of points in mouse weight 25\n"
     ]
    }
   ],
   "source": [
    "# Generate a scatter plot of mouse weight versus average tumor volume for the Capomulin regimen\n",
    "\n",
    "\n",
    "#Isolate only Capomulin Drug Regimen\n",
    "\n",
    "#set drug regimen\n",
    "Drug_Regimen = \"Capomulin\"\n",
    "Mouse_Drug_Refined = combined_study[combined_study[\"Drug Regimen\"]==Drug_Regimen]\n",
    "\n",
    "#On isolated data set perform groupby on Mouse ID\n",
    "Mouse_ID_Groupby = Mouse_Drug_Refined.groupby(\"Mouse ID\")\n",
    "\n",
    "#get list of average tumor volume from groupby object\n",
    "Avg_TVolume = Mouse_ID_Groupby[\"Tumor Volume (mm3)\"].mean()\n",
    "#get list of mouse weight from groupby object\n",
    "Mouse_Weight = Mouse_ID_Groupby[\"Weight (g)\"].unique()\n",
    "\n",
    "#Mouse weight is a string - convert to float point\n",
    "Mouse_Weight = Mouse_Weight.astype(float)\n",
    "\n",
    "#scatter plot\n",
    "plt.scatter(Mouse_Weight[:], Avg_TVolume[:], color=\"blue\", s = 10)\n",
    "plt.title(\"AVerage Tumor Volume vs Mouse Weight for Capomulin\")\n",
    "plt.xlabel(\"Mouse Weight (g)\")\n",
    "plt.ylabel(\"Average Tumor Volume (mm3)\")\n",
    "plt.show()\n",
    "\n",
    "#print number of points in avg tumor volume and weight fields\n",
    "print(f\"Number of points in average tumor volume: {len(Avg_TVolume)}\")\n",
    "print(f\"Number of points in mouse weight {len(Mouse_Weight)}\")"
   ]
  },
  {
   "cell_type": "markdown",
   "metadata": {},
   "source": [
    "## Correlation and Regression"
   ]
  },
  {
   "cell_type": "code",
   "execution_count": 25,
   "metadata": {},
   "outputs": [
    {
     "name": "stdout",
     "output_type": "stream",
     "text": [
      "The correlation between Mouse Weight and Avg Tumor Volume is 0.8419 for mice on Capomulin\n"
     ]
    },
    {
     "data": {
      "image/png": "[encoded data removed]",
      "text/plain": [
       "<Figure size 432x288 with 1 Axes>"
      ]
     },
     "metadata": {
      "needs_background": "light"
     },
     "output_type": "display_data"
    }
   ],
   "source": [
    "# Calculate the correlation coefficient and linear regression model \n",
    "# for mouse weight and average tumor volume for the Capomulin regimen\n",
    "correlation = st.pearsonr(Mouse_Weight[:],Avg_TVolume[:])\n",
    "r_correlation = round(correlation[0],4)\n",
    "print(f\"The correlation between Mouse Weight and Avg Tumor Volume is {r_correlation} for mice on {Drug_Regimen}\")\n",
    "\n",
    "#perform linear regression on data of mouse weight (x) and average tumor volume for mouse (y)\n",
    "(slope, intercept, rvalue, pvalue, stderr) = linregress(Mouse_Weight[:],Avg_TVolume[:])\n",
    "#create list of values calculated from linear regression using mouse weight\n",
    "regress_values = Mouse_Weight[:] * slope + intercept\n",
    "#string of linear regression model to add to plot\n",
    "line_eq = \"y = \" + str(round(slope,2)) + \"x + \" + str(round(intercept,2))+\", r = \" +str(round(rvalue,2))\n",
    "#line_eq = line_eq + \", p=\"+str(round(pvalue,3))\n",
    "maximum_y = Avg_TVolume.max()\n",
    "minimum_x = Mouse_Weight.min()\n",
    "#create scatter plot and add fit line and equation\n",
    "plt.scatter(Mouse_Weight[:],Avg_TVolume[:],color=\"blue\", s = 10)\n",
    "plt.plot(Mouse_Weight[:],regress_values,\"r-\")\n",
    "plt.annotate(line_eq,(minimum_x+0.1,maximum_y-0.5),fontsize=11,color=\"red\") #writes to coordinates on graph\n",
    "plt.xlabel('Mouse Weight (g)')\n",
    "plt.ylabel('Average Tumor Volume (mm3)')\n",
    "plt.title(f\"Average Tumor Volume (mm3) vs Mouse Weight for {Drug_Regimen} with Regression Model\")\n",
    "plt.grid()\n",
    "plt.show()"
   ]
  },
  {
   "cell_type": "markdown",
   "metadata": {},
   "source": [
    "## Additional Section - Mouse weight for different treatments\n",
    "The purpose of this section is to look at the average mouse weight for different treatments.  This is a an additional activity not requested in the assignment.\n",
    "\n",
    "Why look at this? Since mouse weight correlates to average tumor volume, having different weights of mice may skey the results."
   ]
  },
  {
   "cell_type": "code",
   "execution_count": 26,
   "metadata": {},
   "outputs": [
    {
     "data": {
      "text/html": [
       "<div>\n",
       "<style scoped>\n",
       "    .dataframe tbody tr th:only-of-type {\n",
       "        vertical-align: middle;\n",
       "    }\n",
       "\n",
       "    .dataframe tbody tr th {\n",
       "        vertical-align: top;\n",
       "    }\n",
       "\n",
       "    .dataframe thead th {\n",
       "        text-align: right;\n",
       "    }\n",
       "</style>\n",
       "<table border=\"1\" class=\"dataframe\">\n",
       "  <thead>\n",
       "    <tr style=\"text-align: right;\">\n",
       "      <th></th>\n",
       "      <th>Avg Weight</th>\n",
       "      <th>Treatment</th>\n",
       "    </tr>\n",
       "  </thead>\n",
       "  <tbody>\n",
       "    <tr>\n",
       "      <th>0</th>\n",
       "      <td>27.320000</td>\n",
       "      <td>Infubinol</td>\n",
       "    </tr>\n",
       "    <tr>\n",
       "      <th>1</th>\n",
       "      <td>28.040000</td>\n",
       "      <td>Placebo</td>\n",
       "    </tr>\n",
       "    <tr>\n",
       "      <th>2</th>\n",
       "      <td>27.400000</td>\n",
       "      <td>Ceftamin</td>\n",
       "    </tr>\n",
       "    <tr>\n",
       "      <th>3</th>\n",
       "      <td>27.875000</td>\n",
       "      <td>Stelasyn</td>\n",
       "    </tr>\n",
       "    <tr>\n",
       "      <th>4</th>\n",
       "      <td>27.920000</td>\n",
       "      <td>Zoniferol</td>\n",
       "    </tr>\n",
       "    <tr>\n",
       "      <th>5</th>\n",
       "      <td>20.000000</td>\n",
       "      <td>Ramicane</td>\n",
       "    </tr>\n",
       "    <tr>\n",
       "      <th>6</th>\n",
       "      <td>28.080000</td>\n",
       "      <td>Ketapril</td>\n",
       "    </tr>\n",
       "    <tr>\n",
       "      <th>7</th>\n",
       "      <td>27.291667</td>\n",
       "      <td>Propriva</td>\n",
       "    </tr>\n",
       "    <tr>\n",
       "      <th>8</th>\n",
       "      <td>27.240000</td>\n",
       "      <td>Naftisol</td>\n",
       "    </tr>\n",
       "    <tr>\n",
       "      <th>9</th>\n",
       "      <td>20.120000</td>\n",
       "      <td>Capomulin</td>\n",
       "    </tr>\n",
       "  </tbody>\n",
       "</table>\n",
       "</div>"
      ],
      "text/plain": [
       "   Avg Weight  Treatment\n",
       "0   27.320000  Infubinol\n",
       "1   28.040000    Placebo\n",
       "2   27.400000   Ceftamin\n",
       "3   27.875000   Stelasyn\n",
       "4   27.920000  Zoniferol\n",
       "5   20.000000   Ramicane\n",
       "6   28.080000   Ketapril\n",
       "7   27.291667   Propriva\n",
       "8   27.240000   Naftisol\n",
       "9   20.120000  Capomulin"
      ]
     },
     "execution_count": 26,
     "metadata": {},
     "output_type": "execute_result"
    }
   ],
   "source": [
    "\n",
    "Mouse_ID_group = combined_study.groupby(\"Mouse ID\")\n",
    "Mouse_Weight_df = pd.DataFrame()\n",
    "weight = Mouse_ID_group[\"Weight (g)\"].mean()\n",
    "treatment = Mouse_ID_group[\"Drug Regimen\"].unique()\n",
    "Mouse_Weight_df[\"Drug Regimen\"] = treatment\n",
    "Mouse_Weight_df[\"Weight (g)\"] = weight\n",
    "Avg_Mouse_Weight_df = pd.DataFrame()\n",
    "\n",
    "Mouse_Weight_df\n",
    "for x in (regimen_list):\n",
    "    average_weight = Mouse_Weight_df[Mouse_Weight_df[\"Drug Regimen\"]==x][\"Weight (g)\"].mean()\n",
    "    new_row = pd.Series(data={'Treatment':x, 'Avg Weight':average_weight})\n",
    "    Avg_Mouse_Weight_df = Avg_Mouse_Weight_df.append(new_row, ignore_index = True)\n",
    "\n",
    "Avg_Mouse_Weight_df"
   ]
  },
  {
   "cell_type": "code",
   "execution_count": 27,
   "metadata": {},
   "outputs": [
    {
     "data": {
      "image/png": "[encoded data removed]",
      "text/plain": [
       "<Figure size 432x288 with 1 Axes>"
      ]
     },
     "metadata": {
      "needs_background": "light"
     },
     "output_type": "display_data"
    }
   ],
   "source": [
    "Weight_Treatment0 = Mouse_Weight_df[Mouse_Weight_df[\"Drug Regimen\"]==regimen_list[0]][\"Weight (g)\"]\n",
    "Weight_Treatment1 = Mouse_Weight_df[Mouse_Weight_df[\"Drug Regimen\"]==regimen_list[1]][\"Weight (g)\"]\n",
    "Weight_Treatment2 = Mouse_Weight_df[Mouse_Weight_df[\"Drug Regimen\"]==regimen_list[2]][\"Weight (g)\"]\n",
    "Weight_Treatment3 = Mouse_Weight_df[Mouse_Weight_df[\"Drug Regimen\"]==regimen_list[3]][\"Weight (g)\"]\n",
    "Weight_Treatment4 = Mouse_Weight_df[Mouse_Weight_df[\"Drug Regimen\"]==regimen_list[4]][\"Weight (g)\"]\n",
    "Weight_Treatment5 = Mouse_Weight_df[Mouse_Weight_df[\"Drug Regimen\"]==regimen_list[5]][\"Weight (g)\"]\n",
    "Weight_Treatment6 = Mouse_Weight_df[Mouse_Weight_df[\"Drug Regimen\"]==regimen_list[6]][\"Weight (g)\"]\n",
    "Weight_Treatment7 = Mouse_Weight_df[Mouse_Weight_df[\"Drug Regimen\"]==regimen_list[7]][\"Weight (g)\"]\n",
    "Weight_Treatment8 = Mouse_Weight_df[Mouse_Weight_df[\"Drug Regimen\"]==regimen_list[8]][\"Weight (g)\"]\n",
    "Weight_Treatment9 = Mouse_Weight_df[Mouse_Weight_df[\"Drug Regimen\"]==regimen_list[9]][\"Weight (g)\"]\n",
    "\n",
    "red_diamond = dict(markerfacecolor='r', marker='D')\n",
    "#ax3.boxplot(data, flierprops=green_diamond)\n",
    "\n",
    "labels = regimen_list\n",
    "fig1, ax1 = plt.subplots()\n",
    "ax1.set_title('Average Mouse Weights versus Regimen')\n",
    "ax1.set_ylabel('Average Mouse Weight')\n",
    "ax1.boxplot([Weight_Treatment0, Weight_Treatment1, Weight_Treatment2, Weight_Treatment3,Weight_Treatment4,Weight_Treatment5,\n",
    "            Weight_Treatment6,Weight_Treatment7,Weight_Treatment8,Weight_Treatment9], showfliers = True,\n",
    "           flierprops = red_diamond, labels=labels)\n",
    "fig1.autofmt_xdate(rotation=45)\n",
    "plt.show()\n"
   ]
  },
  {
   "cell_type": "code",
   "execution_count": null,
   "metadata": {},
   "outputs": [],
   "source": [
    "len(regimen_list)\n"
   ]
  },
  {
   "cell_type": "code",
   "execution_count": null,
   "metadata": {},
   "outputs": [],
   "source": []
  }
 ],
 "metadata": {
  "anaconda-cloud": {},
  "kernelspec": {
   "display_name": "Python 3",
   "language": "python",
   "name": "python3"
  },
  "language_info": {
   "codemirror_mode": {
    "name": "ipython",
    "version": 3
   },
   "file_extension": ".py",
   "mimetype": "text/x-python",
   "name": "python",
   "nbconvert_exporter": "python",
   "pygments_lexer": "ipython3",
   "version": "3.7.6"
  }
 },
 "nbformat": 4,
 "nbformat_minor": 2
}
