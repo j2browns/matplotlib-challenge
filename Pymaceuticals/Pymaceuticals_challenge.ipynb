{
 "cells": [
  {
   "cell_type": "markdown",
   "metadata": {},
   "source": [
    "## Observations and Insights "
   ]
  },
  {
   "cell_type": "markdown",
   "metadata": {},
   "source": []
  },
  {
   "cell_type": "code",
   "execution_count": 1,
   "metadata": {},
   "outputs": [],
   "source": [
    "# Dependencies and Setup\n",
    "import matplotlib.pyplot as plt\n",
    "import pandas as pd\n",
    "import scipy.stats as st\n",
    "\n",
    "# Study data files\n",
    "mouse_metadata_path = \"data/Mouse_metadata.csv\"\n",
    "study_results_path = \"data/Study_results.csv\"\n",
    "\n",
    "# Read the mouse data and the study results\n",
    "mouse_metadata = pd.read_csv(mouse_metadata_path)\n",
    "study_results = pd.read_csv(study_results_path)\n",
    "\n",
    "study_results.head()\n",
    "\n",
    "# Combine the data into a single dataset\n",
    "\n",
    "combined_study = pd.merge(mouse_metadata, study_results, on = \"Mouse ID\")\n",
    "\n",
    "# Display the data table for preview\n",
    "rows_initial = combined_study[\"Mouse ID\"].count()"
   ]
  },
  {
   "cell_type": "code",
   "execution_count": 2,
   "metadata": {},
   "outputs": [
    {
     "data": {
      "text/html": [
       "<div>\n",
       "<style scoped>\n",
       "    .dataframe tbody tr th:only-of-type {\n",
       "        vertical-align: middle;\n",
       "    }\n",
       "\n",
       "    .dataframe tbody tr th {\n",
       "        vertical-align: top;\n",
       "    }\n",
       "\n",
       "    .dataframe thead th {\n",
       "        text-align: right;\n",
       "    }\n",
       "</style>\n",
       "<table border=\"1\" class=\"dataframe\">\n",
       "  <thead>\n",
       "    <tr style=\"text-align: right;\">\n",
       "      <th></th>\n",
       "      <th>Mouse ID</th>\n",
       "      <th>Drug Regimen</th>\n",
       "      <th>Sex</th>\n",
       "      <th>Age_months</th>\n",
       "      <th>Weight (g)</th>\n",
       "      <th>Timepoint</th>\n",
       "      <th>Tumor Volume (mm3)</th>\n",
       "      <th>Metastatic Sites</th>\n",
       "    </tr>\n",
       "  </thead>\n",
       "  <tbody>\n",
       "    <tr>\n",
       "      <th>0</th>\n",
       "      <td>k403</td>\n",
       "      <td>Ramicane</td>\n",
       "      <td>Male</td>\n",
       "      <td>21</td>\n",
       "      <td>16</td>\n",
       "      <td>0</td>\n",
       "      <td>45.000000</td>\n",
       "      <td>0</td>\n",
       "    </tr>\n",
       "    <tr>\n",
       "      <th>1</th>\n",
       "      <td>k403</td>\n",
       "      <td>Ramicane</td>\n",
       "      <td>Male</td>\n",
       "      <td>21</td>\n",
       "      <td>16</td>\n",
       "      <td>5</td>\n",
       "      <td>38.825898</td>\n",
       "      <td>0</td>\n",
       "    </tr>\n",
       "    <tr>\n",
       "      <th>2</th>\n",
       "      <td>k403</td>\n",
       "      <td>Ramicane</td>\n",
       "      <td>Male</td>\n",
       "      <td>21</td>\n",
       "      <td>16</td>\n",
       "      <td>10</td>\n",
       "      <td>35.014271</td>\n",
       "      <td>1</td>\n",
       "    </tr>\n",
       "    <tr>\n",
       "      <th>3</th>\n",
       "      <td>k403</td>\n",
       "      <td>Ramicane</td>\n",
       "      <td>Male</td>\n",
       "      <td>21</td>\n",
       "      <td>16</td>\n",
       "      <td>15</td>\n",
       "      <td>34.223992</td>\n",
       "      <td>1</td>\n",
       "    </tr>\n",
       "    <tr>\n",
       "      <th>4</th>\n",
       "      <td>k403</td>\n",
       "      <td>Ramicane</td>\n",
       "      <td>Male</td>\n",
       "      <td>21</td>\n",
       "      <td>16</td>\n",
       "      <td>20</td>\n",
       "      <td>32.997729</td>\n",
       "      <td>1</td>\n",
       "    </tr>\n",
       "  </tbody>\n",
       "</table>\n",
       "</div>"
      ],
      "text/plain": [
       "  Mouse ID Drug Regimen   Sex  Age_months  Weight (g)  Timepoint  \\\n",
       "0     k403     Ramicane  Male          21          16          0   \n",
       "1     k403     Ramicane  Male          21          16          5   \n",
       "2     k403     Ramicane  Male          21          16         10   \n",
       "3     k403     Ramicane  Male          21          16         15   \n",
       "4     k403     Ramicane  Male          21          16         20   \n",
       "\n",
       "   Tumor Volume (mm3)  Metastatic Sites  \n",
       "0           45.000000                 0  \n",
       "1           38.825898                 0  \n",
       "2           35.014271                 1  \n",
       "3           34.223992                 1  \n",
       "4           32.997729                 1  "
      ]
     },
     "execution_count": 2,
     "metadata": {},
     "output_type": "execute_result"
    }
   ],
   "source": [
    "combined_study.head()"
   ]
  },
  {
   "cell_type": "code",
   "execution_count": 3,
   "metadata": {},
   "outputs": [
    {
     "data": {
      "text/plain": [
       "249"
      ]
     },
     "execution_count": 3,
     "metadata": {},
     "output_type": "execute_result"
    }
   ],
   "source": [
    "# Checking the number of mice.\n",
    "Mouse_ID_List = combined_study[\"Mouse ID\"].unique()\n",
    "Num_Mice_before = len(Mouse_ID_List)\n",
    "Num_Mice_before\n"
   ]
  },
  {
   "cell_type": "code",
   "execution_count": 4,
   "metadata": {},
   "outputs": [
    {
     "name": "stdout",
     "output_type": "stream",
     "text": [
      "['g989', 'g989', 'g989', 'g989', 'g989']\n"
     ]
    },
    {
     "data": {
      "text/plain": [
       "['g989']"
      ]
     },
     "execution_count": 4,
     "metadata": {},
     "output_type": "execute_result"
    }
   ],
   "source": [
    "# Getting the duplicate mice by ID number that shows up for Mouse ID and Timepoint. \n",
    "\n",
    "#Cleaned_combined_df = combined_study.drop_duplicates([\"Mouse ID\",\"Timepoint\"],keep = False)\n",
    "#len(combined_study[\"Mouse ID\"].unique())\n",
    "\n",
    "#sorting data by MouseID then timepoint so have time ordered for each mouse - making sure no issues in data recording\n",
    "combined_study.sort_values([\"Mouse ID\", \"Timepoint\"], inplace = True)\n",
    "\n",
    "problem_id = []\n",
    "\n",
    "for i in range (0,(len(combined_study)-1)):\n",
    "        Mouse_ID_1 = combined_study.iloc[i,0]\n",
    "        Mouse_ID_2 = combined_study.iloc[i+1,0]\n",
    "        if Mouse_ID_1 == Mouse_ID_2:\n",
    "            if combined_study.iloc[i,5] == combined_study.iloc[i+1,5]:\n",
    "                problem_id.append(Mouse_ID_1)\n",
    "print(problem_id)\n",
    "problem_mouse = list(set(problem_id))\n",
    "problem_mouse"
   ]
  },
  {
   "cell_type": "code",
   "execution_count": null,
   "metadata": {},
   "outputs": [],
   "source": []
  },
  {
   "cell_type": "code",
   "execution_count": 5,
   "metadata": {},
   "outputs": [
    {
     "name": "stdout",
     "output_type": "stream",
     "text": [
      "Initial record length 1893\n",
      "Filtered record length 1880\n",
      "\n",
      "Initial number of mice 249 \n",
      "after filtering new number is 248\n",
      "Problem mice: ['g989']\n"
     ]
    }
   ],
   "source": [
    "# Optional: Get all the data for the duplicate mouse ID. \n",
    "\n",
    "\n",
    "for x in problem_mouse:\n",
    "    combined_study = combined_study[combined_study[\"Mouse ID\"]!= x]\n",
    "\n",
    "Num_Mice_after = len(combined_study[\"Mouse ID\"].unique())\n",
    "\n",
    "rows_after = combined_study[\"Mouse ID\"].count()\n",
    "\n",
    "print(f\"Initial record length {rows_initial}\")\n",
    "print(f\"Filtered record length {rows_after}\")\n",
    "print (\"\")\n",
    "print(f\"Initial number of mice {Num_Mice_before} \") \n",
    "print(f\"after filtering new number is {Num_Mice_after}\")\n",
    "\n",
    "print(f\"Problem mice: {problem_mouse}\")"
   ]
  },
  {
   "cell_type": "code",
   "execution_count": 6,
   "metadata": {},
   "outputs": [],
   "source": [
    "# Create a clean DataFrame by dropping the duplicate mouse by its ID.\n"
   ]
  },
  {
   "cell_type": "code",
   "execution_count": 7,
   "metadata": {},
   "outputs": [],
   "source": [
    "# Checking the number of mice in the clean DataFrame.\n"
   ]
  },
  {
   "cell_type": "markdown",
   "metadata": {},
   "source": [
    "## Summary Statistics"
   ]
  },
  {
   "cell_type": "code",
   "execution_count": 8,
   "metadata": {},
   "outputs": [
    {
     "data": {
      "text/html": [
       "<div>\n",
       "<style scoped>\n",
       "    .dataframe tbody tr th:only-of-type {\n",
       "        vertical-align: middle;\n",
       "    }\n",
       "\n",
       "    .dataframe tbody tr th {\n",
       "        vertical-align: top;\n",
       "    }\n",
       "\n",
       "    .dataframe thead th {\n",
       "        text-align: right;\n",
       "    }\n",
       "</style>\n",
       "<table border=\"1\" class=\"dataframe\">\n",
       "  <thead>\n",
       "    <tr style=\"text-align: right;\">\n",
       "      <th></th>\n",
       "      <th>Mean</th>\n",
       "      <th>Median</th>\n",
       "      <th>Variance</th>\n",
       "      <th>STDev</th>\n",
       "      <th>SEM</th>\n",
       "      <th>Count</th>\n",
       "    </tr>\n",
       "    <tr>\n",
       "      <th>Drug Regimen</th>\n",
       "      <th></th>\n",
       "      <th></th>\n",
       "      <th></th>\n",
       "      <th></th>\n",
       "      <th></th>\n",
       "      <th></th>\n",
       "    </tr>\n",
       "  </thead>\n",
       "  <tbody>\n",
       "    <tr>\n",
       "      <th>Capomulin</th>\n",
       "      <td>40.675741</td>\n",
       "      <td>41.557809</td>\n",
       "      <td>24.947764</td>\n",
       "      <td>4.994774</td>\n",
       "      <td>0.329346</td>\n",
       "      <td>230</td>\n",
       "    </tr>\n",
       "    <tr>\n",
       "      <th>Ceftamin</th>\n",
       "      <td>52.591172</td>\n",
       "      <td>51.776157</td>\n",
       "      <td>39.290177</td>\n",
       "      <td>6.268188</td>\n",
       "      <td>0.469821</td>\n",
       "      <td>178</td>\n",
       "    </tr>\n",
       "    <tr>\n",
       "      <th>Infubinol</th>\n",
       "      <td>52.884795</td>\n",
       "      <td>51.820584</td>\n",
       "      <td>43.128684</td>\n",
       "      <td>6.567243</td>\n",
       "      <td>0.492236</td>\n",
       "      <td>178</td>\n",
       "    </tr>\n",
       "    <tr>\n",
       "      <th>Ketapril</th>\n",
       "      <td>55.235638</td>\n",
       "      <td>53.698743</td>\n",
       "      <td>68.553577</td>\n",
       "      <td>8.279709</td>\n",
       "      <td>0.603860</td>\n",
       "      <td>188</td>\n",
       "    </tr>\n",
       "    <tr>\n",
       "      <th>Naftisol</th>\n",
       "      <td>54.331565</td>\n",
       "      <td>52.509285</td>\n",
       "      <td>66.173479</td>\n",
       "      <td>8.134708</td>\n",
       "      <td>0.596466</td>\n",
       "      <td>186</td>\n",
       "    </tr>\n",
       "    <tr>\n",
       "      <th>Placebo</th>\n",
       "      <td>54.033581</td>\n",
       "      <td>52.288934</td>\n",
       "      <td>61.168083</td>\n",
       "      <td>7.821003</td>\n",
       "      <td>0.581331</td>\n",
       "      <td>181</td>\n",
       "    </tr>\n",
       "    <tr>\n",
       "      <th>Propriva</th>\n",
       "      <td>52.320930</td>\n",
       "      <td>50.446266</td>\n",
       "      <td>43.852013</td>\n",
       "      <td>6.622085</td>\n",
       "      <td>0.544332</td>\n",
       "      <td>148</td>\n",
       "    </tr>\n",
       "    <tr>\n",
       "      <th>Ramicane</th>\n",
       "      <td>40.216745</td>\n",
       "      <td>40.673236</td>\n",
       "      <td>23.486704</td>\n",
       "      <td>4.846308</td>\n",
       "      <td>0.320955</td>\n",
       "      <td>228</td>\n",
       "    </tr>\n",
       "    <tr>\n",
       "      <th>Stelasyn</th>\n",
       "      <td>54.233149</td>\n",
       "      <td>52.431737</td>\n",
       "      <td>59.450562</td>\n",
       "      <td>7.710419</td>\n",
       "      <td>0.573111</td>\n",
       "      <td>181</td>\n",
       "    </tr>\n",
       "    <tr>\n",
       "      <th>Zoniferol</th>\n",
       "      <td>53.236507</td>\n",
       "      <td>51.818479</td>\n",
       "      <td>48.533355</td>\n",
       "      <td>6.966589</td>\n",
       "      <td>0.516398</td>\n",
       "      <td>182</td>\n",
       "    </tr>\n",
       "  </tbody>\n",
       "</table>\n",
       "</div>"
      ],
      "text/plain": [
       "                   Mean     Median   Variance     STDev       SEM  Count\n",
       "Drug Regimen                                                            \n",
       "Capomulin     40.675741  41.557809  24.947764  4.994774  0.329346    230\n",
       "Ceftamin      52.591172  51.776157  39.290177  6.268188  0.469821    178\n",
       "Infubinol     52.884795  51.820584  43.128684  6.567243  0.492236    178\n",
       "Ketapril      55.235638  53.698743  68.553577  8.279709  0.603860    188\n",
       "Naftisol      54.331565  52.509285  66.173479  8.134708  0.596466    186\n",
       "Placebo       54.033581  52.288934  61.168083  7.821003  0.581331    181\n",
       "Propriva      52.320930  50.446266  43.852013  6.622085  0.544332    148\n",
       "Ramicane      40.216745  40.673236  23.486704  4.846308  0.320955    228\n",
       "Stelasyn      54.233149  52.431737  59.450562  7.710419  0.573111    181\n",
       "Zoniferol     53.236507  51.818479  48.533355  6.966589  0.516398    182"
      ]
     },
     "execution_count": 8,
     "metadata": {},
     "output_type": "execute_result"
    }
   ],
   "source": [
    "# Generate a summary statistics table of mean, median, variance, standard deviation, and SEM of the tumor volume for each regimen\n",
    "\n",
    "# This method is the most straighforward, creating multiple series and putting them all together at the end.\n",
    "\n",
    "#Isolate the Regimens used in the study\n",
    "regimen_list = combined_study[\"Drug Regimen\"].unique()\n",
    "\n",
    "#Perform groupby on the Regimen\n",
    "study_groupby = combined_study.groupby(\"Drug Regimen\")\n",
    "\n",
    "#Calculate statistics of the study for different Regimens\n",
    "mean_grouped = study_groupby[\"Tumor Volume (mm3)\"].mean()\n",
    "median_grouped = study_groupby[\"Tumor Volume (mm3)\"].median()\n",
    "var_grouped = study_groupby[\"Tumor Volume (mm3)\"].var()\n",
    "std_grouped = study_groupby[\"Tumor Volume (mm3)\"].std()\n",
    "SEM_grouped = study_groupby[\"Tumor Volume (mm3)\"].sem()\n",
    "Count_grouped = study_groupby[\"Tumor Volume (mm3)\"].count()\n",
    "\n",
    "Summary_df= pd.DataFrame(mean_grouped)\n",
    "Summary_df = Summary_df.rename(columns = {\"Tumor Volume (mm3)\":\"Mean\"})\n",
    "Summary_df[\"Median\"]=median_grouped\n",
    "Summary_df[\"Variance\"]=var_grouped\n",
    "Summary_df[\"STDev\"]=std_grouped\n",
    "Summary_df[\"SEM\"]=SEM_grouped\n",
    "Summary_df[\"Count\"]=Count_grouped\n",
    "\n",
    "Summary_df\n"
   ]
  },
  {
   "cell_type": "code",
   "execution_count": 79,
   "metadata": {},
   "outputs": [],
   "source": [
    "# Generate a summary statistics table of mean, median, variance, standard deviation, and SEM of the tumor volume for each regimen\n",
    "\n",
    "# This method produces everything in a single groupby function\n"
   ]
  },
  {
   "cell_type": "markdown",
   "metadata": {},
   "source": [
    "## Bar and Pie Charts"
   ]
  },
  {
   "cell_type": "code",
   "execution_count": 9,
   "metadata": {},
   "outputs": [
    {
     "data": {
      "image/png": "[encoded data removed]",
      "text/plain": [
       "<Figure size 864x288 with 1 Axes>"
      ]
     },
     "metadata": {
      "needs_background": "light"
     },
     "output_type": "display_data"
    },
    {
     "data": {
      "text/plain": [
       "<Figure size 432x288 with 0 Axes>"
      ]
     },
     "metadata": {},
     "output_type": "display_data"
    }
   ],
   "source": [
    "# Generate a bar plot showing the total number of mice for each treatment throughout the course of the study using pandas.\n",
    "x_axis = Summary_df.index\n",
    "y_axis = Summary_df[\"Count\"]\n",
    "\n",
    "# Use DataFrame.plot() in order to create a bar chart of the data\n",
    "Summary_df[\"Count\"].plot(kind=\"bar\", color = \"r\", figsize=(12,4))\n",
    "# Set a title for the chart\n",
    "plt.title(\"Number of Mice in Drug Regimen Studies (Pandas)\")\n",
    "plt.xlabel(\"Drug Regimen\")\n",
    "plt.ylabel(\"Number of Mice\")\n",
    "plt.ylim(0,250)\n",
    "plt.show()\n",
    "plt.tight_layout()\n"
   ]
  },
  {
   "cell_type": "code",
   "execution_count": 10,
   "metadata": {},
   "outputs": [
    {
     "data": {
      "image/png": "[encoded data removed]",
      "text/plain": [
       "<Figure size 720x288 with 1 Axes>"
      ]
     },
     "metadata": {
      "needs_background": "light"
     },
     "output_type": "display_data"
    }
   ],
   "source": [
    "# Generate a bar plot showing the total number of mice for each treatment throughout the course of the study using Pyplot\n",
    "plt.figure(figsize=(10,4)) #10 inches wide by 4\" tall\n",
    "\n",
    "plt.bar(x_axis, y_axis, color='r', width = 0.5, alpha=1, align=\"center\") #alpha is how transparent bars are\n",
    "plt.ylim(0, 250)\n",
    "\n",
    "plt.title(\"Number of Mice in Drug Regimen Studies (PyPlot)\")\n",
    "plt.xlabel(\"Drug Regimen\")\n",
    "plt.ylabel(\"Number of Mice\")\n",
    "\n",
    "plt.tight_layout() #tight layout helps to arrange the graph to look nicer\n",
    "\n",
    "plt.show()\n"
   ]
  },
  {
   "cell_type": "code",
   "execution_count": 11,
   "metadata": {},
   "outputs": [
    {
     "data": {
      "image/png": "[encoded data removed]",
      "text/plain": [
       "<Figure size 360x360 with 1 Axes>"
      ]
     },
     "metadata": {},
     "output_type": "display_data"
    }
   ],
   "source": [
    "# Generate a pie plot showing the distribution of female versus male mice using pandas\n",
    "Mouse_sex_group = combined_study.groupby(\"Sex\")\n",
    "Mouse_sex_df = Mouse_sex_group[\"Sex\"].count()\n",
    "Mouse_sex_df\n",
    "colors = [\"Pink\", \"Blue\"]\n",
    "explode = [0,0.04]\n",
    "\n",
    "plot = Mouse_sex_df.plot.pie( figsize=(5, 5), startangle = 90, autopct = \"%1.1f%%\", colors = colors, \n",
    "                     explode = explode, title = \"Mouse Sex in Study\" )\n",
    "plt.ylabel('')\n",
    "plt.show()"
   ]
  },
  {
   "cell_type": "code",
   "execution_count": 12,
   "metadata": {},
   "outputs": [
    {
     "data": {
      "image/png": "[encoded data removed]",
      "text/plain": [
       "<Figure size 432x288 with 1 Axes>"
      ]
     },
     "metadata": {},
     "output_type": "display_data"
    }
   ],
   "source": [
    "# Generate a pie plot showing the distribution of female versus male mice using pyplot\n",
    "\n",
    "\n",
    "Label = Mouse_sex_df.index\n",
    "\n",
    "data = Mouse_sex_df.iloc[:]\n",
    "data\n",
    "\n",
    "colors = [\"Pink\", \"Blue\"]\n",
    "\n",
    "explode = (0, 0.05)\n",
    "\n",
    "plt.title(\"Mouse Sex in Study\")\n",
    "plt.pie(data, explode=explode, labels=Label, colors=colors,\n",
    "        autopct=\"%1.1f%%\", shadow=True, startangle=90)\n",
    "plt.axis(\"equal\")\n",
    "plt.show()\n"
   ]
  },
  {
   "cell_type": "markdown",
   "metadata": {},
   "source": [
    "## Quartiles, Outliers and Boxplots"
   ]
  },
  {
   "cell_type": "code",
   "execution_count": 13,
   "metadata": {},
   "outputs": [
    {
     "data": {
      "text/html": [
       "<div>\n",
       "<style scoped>\n",
       "    .dataframe tbody tr th:only-of-type {\n",
       "        vertical-align: middle;\n",
       "    }\n",
       "\n",
       "    .dataframe tbody tr th {\n",
       "        vertical-align: top;\n",
       "    }\n",
       "\n",
       "    .dataframe thead th {\n",
       "        text-align: right;\n",
       "    }\n",
       "</style>\n",
       "<table border=\"1\" class=\"dataframe\">\n",
       "  <thead>\n",
       "    <tr style=\"text-align: right;\">\n",
       "      <th></th>\n",
       "      <th>Age_months</th>\n",
       "      <th>Drug Regimen</th>\n",
       "      <th>Metastatic Sites</th>\n",
       "      <th>Mouse ID</th>\n",
       "      <th>Sex</th>\n",
       "      <th>Timepoint</th>\n",
       "      <th>Final Tumor Volume</th>\n",
       "      <th>Weight (g)</th>\n",
       "    </tr>\n",
       "  </thead>\n",
       "  <tbody>\n",
       "    <tr>\n",
       "      <th>309</th>\n",
       "      <td>9.0</td>\n",
       "      <td>Capomulin</td>\n",
       "      <td>2.0</td>\n",
       "      <td>b128</td>\n",
       "      <td>Female</td>\n",
       "      <td>45.0</td>\n",
       "      <td>38.982878</td>\n",
       "      <td>22.0</td>\n",
       "    </tr>\n",
       "    <tr>\n",
       "      <th>299</th>\n",
       "      <td>7.0</td>\n",
       "      <td>Capomulin</td>\n",
       "      <td>0.0</td>\n",
       "      <td>b742</td>\n",
       "      <td>Male</td>\n",
       "      <td>45.0</td>\n",
       "      <td>38.939633</td>\n",
       "      <td>21.0</td>\n",
       "    </tr>\n",
       "    <tr>\n",
       "      <th>64</th>\n",
       "      <td>16.0</td>\n",
       "      <td>Capomulin</td>\n",
       "      <td>0.0</td>\n",
       "      <td>f966</td>\n",
       "      <td>Male</td>\n",
       "      <td>20.0</td>\n",
       "      <td>30.485985</td>\n",
       "      <td>17.0</td>\n",
       "    </tr>\n",
       "    <tr>\n",
       "      <th>244</th>\n",
       "      <td>3.0</td>\n",
       "      <td>Capomulin</td>\n",
       "      <td>1.0</td>\n",
       "      <td>g288</td>\n",
       "      <td>Male</td>\n",
       "      <td>45.0</td>\n",
       "      <td>37.074024</td>\n",
       "      <td>19.0</td>\n",
       "    </tr>\n",
       "    <tr>\n",
       "      <th>360</th>\n",
       "      <td>22.0</td>\n",
       "      <td>Capomulin</td>\n",
       "      <td>2.0</td>\n",
       "      <td>g316</td>\n",
       "      <td>Female</td>\n",
       "      <td>45.0</td>\n",
       "      <td>40.159220</td>\n",
       "      <td>22.0</td>\n",
       "    </tr>\n",
       "    <tr>\n",
       "      <th>...</th>\n",
       "      <td>...</td>\n",
       "      <td>...</td>\n",
       "      <td>...</td>\n",
       "      <td>...</td>\n",
       "      <td>...</td>\n",
       "      <td>...</td>\n",
       "      <td>...</td>\n",
       "      <td>...</td>\n",
       "    </tr>\n",
       "    <tr>\n",
       "      <th>1670</th>\n",
       "      <td>24.0</td>\n",
       "      <td>Ceftamin</td>\n",
       "      <td>3.0</td>\n",
       "      <td>w151</td>\n",
       "      <td>Male</td>\n",
       "      <td>45.0</td>\n",
       "      <td>67.527482</td>\n",
       "      <td>25.0</td>\n",
       "    </tr>\n",
       "    <tr>\n",
       "      <th>1743</th>\n",
       "      <td>23.0</td>\n",
       "      <td>Ceftamin</td>\n",
       "      <td>0.0</td>\n",
       "      <td>x226</td>\n",
       "      <td>Male</td>\n",
       "      <td>0.0</td>\n",
       "      <td>45.000000</td>\n",
       "      <td>28.0</td>\n",
       "    </tr>\n",
       "    <tr>\n",
       "      <th>1773</th>\n",
       "      <td>19.0</td>\n",
       "      <td>Ceftamin</td>\n",
       "      <td>3.0</td>\n",
       "      <td>x581</td>\n",
       "      <td>Female</td>\n",
       "      <td>45.0</td>\n",
       "      <td>64.634949</td>\n",
       "      <td>28.0</td>\n",
       "    </tr>\n",
       "    <tr>\n",
       "      <th>1797</th>\n",
       "      <td>3.0</td>\n",
       "      <td>Ceftamin</td>\n",
       "      <td>3.0</td>\n",
       "      <td>x822</td>\n",
       "      <td>Male</td>\n",
       "      <td>45.0</td>\n",
       "      <td>61.386660</td>\n",
       "      <td>29.0</td>\n",
       "    </tr>\n",
       "    <tr>\n",
       "      <th>1845</th>\n",
       "      <td>6.0</td>\n",
       "      <td>Ceftamin</td>\n",
       "      <td>4.0</td>\n",
       "      <td>y769</td>\n",
       "      <td>Female</td>\n",
       "      <td>45.0</td>\n",
       "      <td>68.594745</td>\n",
       "      <td>27.0</td>\n",
       "    </tr>\n",
       "  </tbody>\n",
       "</table>\n",
       "<p>99 rows × 8 columns</p>\n",
       "</div>"
      ],
      "text/plain": [
       "      Age_months Drug Regimen  Metastatic Sites Mouse ID     Sex  Timepoint  \\\n",
       "309          9.0    Capomulin               2.0     b128  Female       45.0   \n",
       "299          7.0    Capomulin               0.0     b742    Male       45.0   \n",
       "64          16.0    Capomulin               0.0     f966    Male       20.0   \n",
       "244          3.0    Capomulin               1.0     g288    Male       45.0   \n",
       "360         22.0    Capomulin               2.0     g316  Female       45.0   \n",
       "...          ...          ...               ...      ...     ...        ...   \n",
       "1670        24.0     Ceftamin               3.0     w151    Male       45.0   \n",
       "1743        23.0     Ceftamin               0.0     x226    Male        0.0   \n",
       "1773        19.0     Ceftamin               3.0     x581  Female       45.0   \n",
       "1797         3.0     Ceftamin               3.0     x822    Male       45.0   \n",
       "1845         6.0     Ceftamin               4.0     y769  Female       45.0   \n",
       "\n",
       "      Final Tumor Volume  Weight (g)  \n",
       "309            38.982878        22.0  \n",
       "299            38.939633        21.0  \n",
       "64             30.485985        17.0  \n",
       "244            37.074024        19.0  \n",
       "360            40.159220        22.0  \n",
       "...                  ...         ...  \n",
       "1670           67.527482        25.0  \n",
       "1743           45.000000        28.0  \n",
       "1773           64.634949        28.0  \n",
       "1797           61.386660        29.0  \n",
       "1845           68.594745        27.0  \n",
       "\n",
       "[99 rows x 8 columns]"
      ]
     },
     "execution_count": 13,
     "metadata": {},
     "output_type": "execute_result"
    }
   ],
   "source": [
    "# Calculate the final tumor volume of each mouse across four of the treatment regimens:  \n",
    "# Capomulin, Ramicane, Infubinol, and Ceftamin\n",
    "\n",
    "#create list of the highlighted promising treatments\n",
    "promising_treatment_list = [\"Capomulin\", \"Ramicane\", \"Infubinol\", \"Ceftamin\"]\n",
    "\n",
    "#create dataframe for new promising treatment data\n",
    "promising_treatment_df = pd.DataFrame()\n",
    "\n",
    "#iterate through combined_study data to isolate only promising treatment data\n",
    "for x in promising_treatment_list:\n",
    "    promising_treatment_df = promising_treatment_df.append(combined_study[combined_study[\"Drug Regimen\"] == x])\n",
    "\n",
    "#iterate through dataframe for promising treatments to isolate the final tumor volume.  Occurs when mouse ID changes.    \n",
    "final_tumor_volumes_df = pd.DataFrame()\n",
    "\n",
    "for x in range(1, (len(promising_treatment_df)-1)):\n",
    "            mouse_ID1 = promising_treatment_df.iloc[x][0]\n",
    "            mouse_ID2 = promising_treatment_df.iloc[x+1][0]\n",
    "            if mouse_ID1 != mouse_ID2:\n",
    "                selected_data = promising_treatment_df.iloc[x][:]\n",
    "                final_tumor_volumes_df = final_tumor_volumes_df.append(selected_data)\n",
    "\n",
    "final_tumor_volumes_df = final_tumor_volumes_df.rename(columns = {\"Tumor Volume (mm3)\": \"Final Tumor Volume\"})\n",
    "# Start by getting the last (greatest) timepoint for each mouse\n",
    "# Merge this group df with the original dataframe to get the tumor volume at the last timepoint\n",
    "final_tumor_volumes_df"
   ]
  },
  {
   "cell_type": "code",
   "execution_count": 52,
   "metadata": {},
   "outputs": [
    {
     "data": {
      "text/html": [
       "<div>\n",
       "<style scoped>\n",
       "    .dataframe tbody tr th:only-of-type {\n",
       "        vertical-align: middle;\n",
       "    }\n",
       "\n",
       "    .dataframe tbody tr th {\n",
       "        vertical-align: top;\n",
       "    }\n",
       "\n",
       "    .dataframe thead th {\n",
       "        text-align: right;\n",
       "    }\n",
       "</style>\n",
       "<table border=\"1\" class=\"dataframe\">\n",
       "  <thead>\n",
       "    <tr style=\"text-align: right;\">\n",
       "      <th></th>\n",
       "      <th>Capomulin</th>\n",
       "      <th>Ramicane</th>\n",
       "      <th>Infubinol</th>\n",
       "      <th>Ceftamin</th>\n",
       "    </tr>\n",
       "  </thead>\n",
       "  <tbody>\n",
       "    <tr>\n",
       "      <th>0.25</th>\n",
       "      <td>32.377357</td>\n",
       "      <td>31.560470</td>\n",
       "      <td>54.048608</td>\n",
       "      <td>48.487729</td>\n",
       "    </tr>\n",
       "    <tr>\n",
       "      <th>0.5</th>\n",
       "      <td>38.125164</td>\n",
       "      <td>36.561652</td>\n",
       "      <td>60.165180</td>\n",
       "      <td>59.796928</td>\n",
       "    </tr>\n",
       "    <tr>\n",
       "      <th>0.75</th>\n",
       "      <td>40.159220</td>\n",
       "      <td>40.659006</td>\n",
       "      <td>65.525743</td>\n",
       "      <td>64.219213</td>\n",
       "    </tr>\n",
       "    <tr>\n",
       "      <th>IQR</th>\n",
       "      <td>7.781863</td>\n",
       "      <td>9.098537</td>\n",
       "      <td>11.477135</td>\n",
       "      <td>15.731485</td>\n",
       "    </tr>\n",
       "    <tr>\n",
       "      <th>lower bound</th>\n",
       "      <td>20.704562</td>\n",
       "      <td>17.912664</td>\n",
       "      <td>36.832905</td>\n",
       "      <td>24.890502</td>\n",
       "    </tr>\n",
       "    <tr>\n",
       "      <th>upper bound</th>\n",
       "      <td>51.832015</td>\n",
       "      <td>54.306811</td>\n",
       "      <td>82.741446</td>\n",
       "      <td>87.816440</td>\n",
       "    </tr>\n",
       "  </tbody>\n",
       "</table>\n",
       "</div>"
      ],
      "text/plain": [
       "             Capomulin   Ramicane  Infubinol   Ceftamin\n",
       "0.25         32.377357  31.560470  54.048608  48.487729\n",
       "0.5          38.125164  36.561652  60.165180  59.796928\n",
       "0.75         40.159220  40.659006  65.525743  64.219213\n",
       "IQR           7.781863   9.098537  11.477135  15.731485\n",
       "lower bound  20.704562  17.912664  36.832905  24.890502\n",
       "upper bound  51.832015  54.306811  82.741446  87.816440"
      ]
     },
     "execution_count": 52,
     "metadata": {},
     "output_type": "execute_result"
    }
   ],
   "source": [
    "# Put treatments into a list for for loop (and later for plot labels)\n",
    "promising_treatment_list\n",
    "\n",
    "# Create empty list to fill with tumor vol data (for plotting\n",
    "\n",
    "final_tumor_vol0 = final_tumor_volumes_df[final_tumor_volumes_df[\"Drug Regimen\"]==promising_treatment_list[0]][\"Final Tumor Volume\"]\n",
    "final_tumor_vol1 = final_tumor_volumes_df[final_tumor_volumes_df[\"Drug Regimen\"]==promising_treatment_list[1]][\"Final Tumor Volume\"]\n",
    "final_tumor_vol2 = final_tumor_volumes_df[final_tumor_volumes_df[\"Drug Regimen\"]==promising_treatment_list[2]][\"Final Tumor Volume\"]\n",
    "final_tumor_vol3 = final_tumor_volumes_df[final_tumor_volumes_df[\"Drug Regimen\"]==promising_treatment_list[3]][\"Final Tumor Volume\"]\n",
    "\n",
    "final_tumor_vol0.reset_index(inplace = True, drop = True)\n",
    "final_tumor_vol1.reset_index(inplace = True, drop = True)\n",
    "final_tumor_vol2.reset_index(inplace = True, drop = True)\n",
    "final_tumor_vol3.reset_index(inplace = True, drop = True)\n",
    "\n",
    "# Calculate the IQR and quantitatively determine if there are any potential outliers. \n",
    "\n",
    "\n",
    "final_tumor_data[promising_treatment_list[0]]=final_tumor_vol0\n",
    "final_tumor_data[promising_treatment_list[1]]=final_tumor_vol1\n",
    "final_tumor_data[promising_treatment_list[2]]=final_tumor_vol2\n",
    "final_tumor_data[promising_treatment_list[3]]=final_tumor_vol3\n",
    "\n",
    "quartiles_df = pd.DataFrame()\n",
    "\n",
    "quartiles_df[promising_treatment_list[0]] = final_tumor_data[promising_treatment_list[0]].quantile([0.25,0.5,0.75])\n",
    "quartiles_df[promising_treatment_list[1]] = final_tumor_data[promising_treatment_list[1]].quantile([0.25,0.5,0.75])\n",
    "quartiles_df[promising_treatment_list[2]] = final_tumor_data[promising_treatment_list[2]].quantile([0.25,0.5,0.75])\n",
    "quartiles_df[promising_treatment_list[3]] = final_tumor_data[promising_treatment_list[3]].quantile([0.25,0.5,0.75])\n",
    "#lowerq = quartiles[0.25]\n",
    "#upperq = quartiles[0.75]\n",
    "#iqr = upperq-lowerq\n",
    "#lower_bound = lowerq - (1.5*iqr)\n",
    "#upper_bound = upperq + (1.5*iqr)\n",
    "\n",
    "#determining iqr's and adding to dataframe\n",
    "iqr_0 = quartiles_df.iloc[2][0]-quartiles_df.iloc[0][0]\n",
    "iqr_1 = quartiles_df.iloc[2][1]-quartiles_df.iloc[0][1]\n",
    "iqr_2 = quartiles_df.iloc[2][2]-quartiles_df.iloc[0][2]\n",
    "iqr_3 = quartiles_df.iloc[2][3]-quartiles_df.iloc[0][3]\n",
    "iqr_row = pd.Series(data = {promising_treatment_list[0]: iqr_0, promising_treatment_list[1]:iqr_1, \n",
    "                           promising_treatment_list[2]: iqr_2, promising_treatment_list[3]: iqr_3}, name = \"IQR\")\n",
    "quartiles_df = quartiles_df.append(iqr_row, ignore_index=False)\n",
    "\n",
    "#determining lower bounds and adding to dataframe\n",
    "lower_bound_0 = quartiles_df.iloc[0][0]-1.5*quartiles_df.iloc[3][0]\n",
    "lower_bound_1 = quartiles_df.iloc[0][1]-1.5*quartiles_df.iloc[3][1]\n",
    "lower_bound_2 = quartiles_df.iloc[0][2]-1.5*quartiles_df.iloc[3][2]\n",
    "lower_bound_3 = quartiles_df.iloc[0][3]-1.5*quartiles_df.iloc[3][3]\n",
    "lower_bound_row = pd.Series(data = {promising_treatment_list[0]: lower_bound_0, promising_treatment_list[1]:lower_bound_1, \n",
    "                           promising_treatment_list[2]: lower_bound_2, promising_treatment_list[3]: lower_bound_3}, \n",
    "                            name = \"lower bound\")\n",
    "quartiles_df = quartiles_df.append(lower_bound_row, ignore_index=False)\n",
    "\n",
    "#determining upper bounds and adding to dataframe\n",
    "upper_bound_0 = quartiles_df.iloc[2][0]+1.5*quartiles_df.iloc[3][0]\n",
    "upper_bound_1 = quartiles_df.iloc[2][1]+1.5*quartiles_df.iloc[3][1]\n",
    "upper_bound_2 = quartiles_df.iloc[2][2]+1.5*quartiles_df.iloc[3][2]\n",
    "upper_bound_3 = quartiles_df.iloc[2][3]+1.5*quartiles_df.iloc[3][3]\n",
    "upper_bound_row = pd.Series(data = {promising_treatment_list[0]: upper_bound_0, promising_treatment_list[1]:upper_bound_1, \n",
    "                           promising_treatment_list[2]: upper_bound_2, promising_treatment_list[3]: upper_bound_3}, \n",
    "                            name = \"upper bound\")\n",
    "quartiles_df = quartiles_df.append(upper_bound_row, ignore_index=False)\n",
    "\n",
    "#new_row = pd.Series(data={'name':'Geo', 'physics':87, 'chemistry':92}, name='x')\n",
    "\n",
    "\n",
    "quartiles_df\n",
    "# Locate the rows which contain mice on each drug and get the tumor volumes\n",
    "# add subset \n",
    "    \n",
    "# Determine outliers using upper and lower bounds"
   ]
  },
  {
   "cell_type": "code",
   "execution_count": null,
   "metadata": {},
   "outputs": [],
   "source": []
  },
  {
   "cell_type": "code",
   "execution_count": 71,
   "metadata": {},
   "outputs": [
    {
     "data": {
      "image/png": "[encoded data removed]",
      "text/plain": [
       "<Figure size 432x288 with 1 Axes>"
      ]
     },
     "metadata": {
      "needs_background": "light"
     },
     "output_type": "display_data"
    }
   ],
   "source": [
    "# Generate a box plot of the final tumor volume of each mouse across four regimens of interest\n",
    "\n",
    "red_diamond = dict(markerfacecolor='r', marker='D')\n",
    "#ax3.boxplot(data, flierprops=green_diamond)\n",
    "\n",
    "labels = promising_treatment_list\n",
    "fig1, ax1 = plt.subplots()\n",
    "ax1.set_title('Final Tumor Volumes for Promising Treatments')\n",
    "ax1.set_ylabel('Final Tumor Volume (mm3)')\n",
    "ax1.boxplot([final_tumor_vol0, final_tumor_vol1, final_tumor_vol2, final_tumor_vol3], showfliers = True,\n",
    "           flierprops = red_diamond, labels=labels)\n",
    "plt.show()\n",
    "\n"
   ]
  },
  {
   "cell_type": "markdown",
   "metadata": {},
   "source": [
    "## Line and Scatter Plots"
   ]
  },
  {
   "cell_type": "code",
   "execution_count": null,
   "metadata": {},
   "outputs": [],
   "source": [
    "# Generate a line plot of time point versus tumor volume for a mouse treated with Capomulin\n"
   ]
  },
  {
   "cell_type": "code",
   "execution_count": null,
   "metadata": {},
   "outputs": [],
   "source": [
    "# Generate a scatter plot of mouse weight versus average tumor volume for the Capomulin regimen\n"
   ]
  },
  {
   "cell_type": "markdown",
   "metadata": {},
   "source": [
    "## Correlation and Regression"
   ]
  },
  {
   "cell_type": "code",
   "execution_count": null,
   "metadata": {},
   "outputs": [],
   "source": [
    "# Calculate the correlation coefficient and linear regression model \n",
    "# for mouse weight and average tumor volume for the Capomulin regimen\n"
   ]
  },
  {
   "cell_type": "code",
   "execution_count": null,
   "metadata": {},
   "outputs": [],
   "source": []
  }
 ],
 "metadata": {
  "anaconda-cloud": {},
  "kernelspec": {
   "display_name": "Python 3",
   "language": "python",
   "name": "python3"
  },
  "language_info": {
   "codemirror_mode": {
    "name": "ipython",
    "version": 3
   },
   "file_extension": ".py",
   "mimetype": "text/x-python",
   "name": "python",
   "nbconvert_exporter": "python",
   "pygments_lexer": "ipython3",
   "version": "3.7.6"
  }
 },
 "nbformat": 4,
 "nbformat_minor": 2
}
